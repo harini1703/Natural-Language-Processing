{
  "nbformat": 4,
  "nbformat_minor": 0,
  "metadata": {
    "colab": {
      "provenance": [],
      "authorship_tag": "ABX9TyOjV8MHt0R3B/IwUaZnK9xL",
      "include_colab_link": true
    },
    "kernelspec": {
      "name": "python3",
      "display_name": "Python 3"
    },
    "language_info": {
      "name": "python"
    }
  },
  "cells": [
    {
      "cell_type": "markdown",
      "metadata": {
        "id": "view-in-github",
        "colab_type": "text"
      },
      "source": [
        "<a href=\"https://colab.research.google.com/github/harini1703/Natural-Language-Processing/blob/main/NLP_Exercise.ipynb\" target=\"_parent\"><img src=\"https://colab.research.google.com/assets/colab-badge.svg\" alt=\"Open In Colab\"/></a>"
      ]
    },
    {
      "cell_type": "code",
      "execution_count": 1,
      "metadata": {
        "id": "ZHMcU_C2wWUK"
      },
      "outputs": [],
      "source": [
        "eg=\"Just had the most amazing day ever! 🌟 Started with a hearty breakfast 🥞, followed by a scenic hike 🏞️, and then a surprise visit from an old friend! 🤗 Can you believe it? We laughed, reminisced, and made unforgettable memories. 🎉 Now, enjoying a quiet evening with a cup of hot cocoa ☕ and a good book 📖. Feeling blessed and grateful for these simple joys in life! ✨ How was your day? Share your highlights! 🌈 #Grateful #GoodVibesOnly #SimpleJoys #FriendsForever\""
      ]
    },
    {
      "cell_type": "code",
      "source": [
        "eg\n"
      ],
      "metadata": {
        "colab": {
          "base_uri": "https://localhost:8080/",
          "height": 70
        },
        "id": "OX-S1RJMwpLa",
        "outputId": "529a9891-733e-48a9-eece-2844003b234d"
      },
      "execution_count": 2,
      "outputs": [
        {
          "output_type": "execute_result",
          "data": {
            "text/plain": [
              "'Just had the most amazing day ever! 🌟 Started with a hearty breakfast 🥞, followed by a scenic hike 🏞️, and then a surprise visit from an old friend! 🤗 Can you believe it? We laughed, reminisced, and made unforgettable memories. 🎉 Now, enjoying a quiet evening with a cup of hot cocoa ☕ and a good book 📖. Feeling blessed and grateful for these simple joys in life! ✨ How was your day? Share your highlights! 🌈 #Grateful #GoodVibesOnly #SimpleJoys #FriendsForever'"
            ],
            "application/vnd.google.colaboratory.intrinsic+json": {
              "type": "string"
            }
          },
          "metadata": {},
          "execution_count": 2
        }
      ]
    },
    {
      "cell_type": "code",
      "source": [
        "from nltk import sent_tokenize,word_tokenize,wordpunct_tokenize,TweetTokenizer\n"
      ],
      "metadata": {
        "id": "wXZD4f8xwufz"
      },
      "execution_count": 23,
      "outputs": []
    },
    {
      "cell_type": "code",
      "source": [
        "import nltk\n",
        "nltk.download ('punkt')"
      ],
      "metadata": {
        "colab": {
          "base_uri": "https://localhost:8080/"
        },
        "id": "snb4mFBzxACo",
        "outputId": "2dd67d14-9930-4979-ccc5-344d31bc1352"
      },
      "execution_count": 5,
      "outputs": [
        {
          "output_type": "stream",
          "name": "stderr",
          "text": [
            "[nltk_data] Downloading package punkt to /root/nltk_data...\n",
            "[nltk_data]   Unzipping tokenizers/punkt.zip.\n"
          ]
        },
        {
          "output_type": "execute_result",
          "data": {
            "text/plain": [
              "True"
            ]
          },
          "metadata": {},
          "execution_count": 5
        }
      ]
    },
    {
      "cell_type": "code",
      "source": [
        "sentences=sent_tokenize(eg)"
      ],
      "metadata": {
        "id": "aMdy3JMvw3l-"
      },
      "execution_count": 6,
      "outputs": []
    },
    {
      "cell_type": "code",
      "source": [
        "sentences"
      ],
      "metadata": {
        "colab": {
          "base_uri": "https://localhost:8080/"
        },
        "id": "8LO2uMyMw7Rg",
        "outputId": "ec8b5671-39cd-44ea-cc0c-db718f572a2a"
      },
      "execution_count": 8,
      "outputs": [
        {
          "output_type": "execute_result",
          "data": {
            "text/plain": [
              "['Just had the most amazing day ever!',\n",
              " '🌟 Started with a hearty breakfast 🥞, followed by a scenic hike 🏞️, and then a surprise visit from an old friend!',\n",
              " '🤗 Can you believe it?',\n",
              " 'We laughed, reminisced, and made unforgettable memories.',\n",
              " '🎉 Now, enjoying a quiet evening with a cup of hot cocoa ☕ and a good book 📖.',\n",
              " 'Feeling blessed and grateful for these simple joys in life!',\n",
              " '✨ How was your day?',\n",
              " 'Share your highlights!',\n",
              " '🌈 #Grateful #GoodVibesOnly #SimpleJoys #FriendsForever']"
            ]
          },
          "metadata": {},
          "execution_count": 8
        }
      ]
    },
    {
      "cell_type": "code",
      "source": [
        "eg.split('.')"
      ],
      "metadata": {
        "colab": {
          "base_uri": "https://localhost:8080/"
        },
        "id": "f42B0714xETC",
        "outputId": "afbce750-3aa8-47b6-b52f-df3587f910bc"
      },
      "execution_count": 11,
      "outputs": [
        {
          "output_type": "execute_result",
          "data": {
            "text/plain": [
              "['Just had the most amazing day ever! 🌟 Started with a hearty breakfast 🥞, followed by a scenic hike 🏞️, and then a surprise visit from an old friend! 🤗 Can you believe it? We laughed, reminisced, and made unforgettable memories',\n",
              " ' 🎉 Now, enjoying a quiet evening with a cup of hot cocoa ☕ and a good book 📖',\n",
              " ' Feeling blessed and grateful for these simple joys in life! ✨ How was your day? Share your highlights! 🌈 #Grateful #GoodVibesOnly #SimpleJoys #FriendsForever']"
            ]
          },
          "metadata": {},
          "execution_count": 11
        }
      ]
    },
    {
      "cell_type": "code",
      "source": [
        "eg.split(',')"
      ],
      "metadata": {
        "colab": {
          "base_uri": "https://localhost:8080/"
        },
        "id": "2PWZ8DZrxMnJ",
        "outputId": "601dc5b3-b373-4090-c46c-f51a42d9f0a3"
      },
      "execution_count": 12,
      "outputs": [
        {
          "output_type": "execute_result",
          "data": {
            "text/plain": [
              "['Just had the most amazing day ever! 🌟 Started with a hearty breakfast 🥞',\n",
              " ' followed by a scenic hike 🏞️',\n",
              " ' and then a surprise visit from an old friend! 🤗 Can you believe it? We laughed',\n",
              " ' reminisced',\n",
              " ' and made unforgettable memories. 🎉 Now',\n",
              " ' enjoying a quiet evening with a cup of hot cocoa ☕ and a good book 📖. Feeling blessed and grateful for these simple joys in life! ✨ How was your day? Share your highlights! 🌈 #Grateful #GoodVibesOnly #SimpleJoys #FriendsForever']"
            ]
          },
          "metadata": {},
          "execution_count": 12
        }
      ]
    },
    {
      "cell_type": "code",
      "source": [
        "eg.split('!')"
      ],
      "metadata": {
        "colab": {
          "base_uri": "https://localhost:8080/"
        },
        "id": "KpUOXiL8xgxw",
        "outputId": "7fb22cfe-086e-4d45-e855-79f8e583883e"
      },
      "execution_count": 13,
      "outputs": [
        {
          "output_type": "execute_result",
          "data": {
            "text/plain": [
              "['Just had the most amazing day ever',\n",
              " ' 🌟 Started with a hearty breakfast 🥞, followed by a scenic hike 🏞️, and then a surprise visit from an old friend',\n",
              " ' 🤗 Can you believe it? We laughed, reminisced, and made unforgettable memories. 🎉 Now, enjoying a quiet evening with a cup of hot cocoa ☕ and a good book 📖. Feeling blessed and grateful for these simple joys in life',\n",
              " ' ✨ How was your day? Share your highlights',\n",
              " ' 🌈 #Grateful #GoodVibesOnly #SimpleJoys #FriendsForever']"
            ]
          },
          "metadata": {},
          "execution_count": 13
        }
      ]
    },
    {
      "cell_type": "code",
      "source": [
        "words=word_tokenize(eg)"
      ],
      "metadata": {
        "id": "J40SPYKKxjHA"
      },
      "execution_count": 14,
      "outputs": []
    },
    {
      "cell_type": "code",
      "source": [
        "words"
      ],
      "metadata": {
        "colab": {
          "base_uri": "https://localhost:8080/"
        },
        "id": "9e3T5AMjxq9F",
        "outputId": "9fe86510-5480-4f77-94de-11c0edd8f348"
      },
      "execution_count": 15,
      "outputs": [
        {
          "output_type": "execute_result",
          "data": {
            "text/plain": [
              "['Just',\n",
              " 'had',\n",
              " 'the',\n",
              " 'most',\n",
              " 'amazing',\n",
              " 'day',\n",
              " 'ever',\n",
              " '!',\n",
              " '🌟',\n",
              " 'Started',\n",
              " 'with',\n",
              " 'a',\n",
              " 'hearty',\n",
              " 'breakfast',\n",
              " '🥞',\n",
              " ',',\n",
              " 'followed',\n",
              " 'by',\n",
              " 'a',\n",
              " 'scenic',\n",
              " 'hike',\n",
              " '🏞️',\n",
              " ',',\n",
              " 'and',\n",
              " 'then',\n",
              " 'a',\n",
              " 'surprise',\n",
              " 'visit',\n",
              " 'from',\n",
              " 'an',\n",
              " 'old',\n",
              " 'friend',\n",
              " '!',\n",
              " '🤗',\n",
              " 'Can',\n",
              " 'you',\n",
              " 'believe',\n",
              " 'it',\n",
              " '?',\n",
              " 'We',\n",
              " 'laughed',\n",
              " ',',\n",
              " 'reminisced',\n",
              " ',',\n",
              " 'and',\n",
              " 'made',\n",
              " 'unforgettable',\n",
              " 'memories',\n",
              " '.',\n",
              " '🎉',\n",
              " 'Now',\n",
              " ',',\n",
              " 'enjoying',\n",
              " 'a',\n",
              " 'quiet',\n",
              " 'evening',\n",
              " 'with',\n",
              " 'a',\n",
              " 'cup',\n",
              " 'of',\n",
              " 'hot',\n",
              " 'cocoa',\n",
              " '☕',\n",
              " 'and',\n",
              " 'a',\n",
              " 'good',\n",
              " 'book',\n",
              " '📖',\n",
              " '.',\n",
              " 'Feeling',\n",
              " 'blessed',\n",
              " 'and',\n",
              " 'grateful',\n",
              " 'for',\n",
              " 'these',\n",
              " 'simple',\n",
              " 'joys',\n",
              " 'in',\n",
              " 'life',\n",
              " '!',\n",
              " '✨',\n",
              " 'How',\n",
              " 'was',\n",
              " 'your',\n",
              " 'day',\n",
              " '?',\n",
              " 'Share',\n",
              " 'your',\n",
              " 'highlights',\n",
              " '!',\n",
              " '🌈',\n",
              " '#',\n",
              " 'Grateful',\n",
              " '#',\n",
              " 'GoodVibesOnly',\n",
              " '#',\n",
              " 'SimpleJoys',\n",
              " '#',\n",
              " 'FriendsForever']"
            ]
          },
          "metadata": {},
          "execution_count": 15
        }
      ]
    },
    {
      "cell_type": "code",
      "source": [
        "adv=wordpunct_tokenize(eg)"
      ],
      "metadata": {
        "id": "fOiwNEFrxr6x"
      },
      "execution_count": 18,
      "outputs": []
    },
    {
      "cell_type": "code",
      "source": [
        "adv"
      ],
      "metadata": {
        "colab": {
          "base_uri": "https://localhost:8080/"
        },
        "id": "hxk9sq2yx0SB",
        "outputId": "fa634f03-62ce-49b3-a3f9-0cc0d5a72e33"
      },
      "execution_count": 20,
      "outputs": [
        {
          "output_type": "execute_result",
          "data": {
            "text/plain": [
              "['Just',\n",
              " 'had',\n",
              " 'the',\n",
              " 'most',\n",
              " 'amazing',\n",
              " 'day',\n",
              " 'ever',\n",
              " '!',\n",
              " '🌟',\n",
              " 'Started',\n",
              " 'with',\n",
              " 'a',\n",
              " 'hearty',\n",
              " 'breakfast',\n",
              " '🥞,',\n",
              " 'followed',\n",
              " 'by',\n",
              " 'a',\n",
              " 'scenic',\n",
              " 'hike',\n",
              " '🏞️,',\n",
              " 'and',\n",
              " 'then',\n",
              " 'a',\n",
              " 'surprise',\n",
              " 'visit',\n",
              " 'from',\n",
              " 'an',\n",
              " 'old',\n",
              " 'friend',\n",
              " '!',\n",
              " '🤗',\n",
              " 'Can',\n",
              " 'you',\n",
              " 'believe',\n",
              " 'it',\n",
              " '?',\n",
              " 'We',\n",
              " 'laughed',\n",
              " ',',\n",
              " 'reminisced',\n",
              " ',',\n",
              " 'and',\n",
              " 'made',\n",
              " 'unforgettable',\n",
              " 'memories',\n",
              " '.',\n",
              " '🎉',\n",
              " 'Now',\n",
              " ',',\n",
              " 'enjoying',\n",
              " 'a',\n",
              " 'quiet',\n",
              " 'evening',\n",
              " 'with',\n",
              " 'a',\n",
              " 'cup',\n",
              " 'of',\n",
              " 'hot',\n",
              " 'cocoa',\n",
              " '☕',\n",
              " 'and',\n",
              " 'a',\n",
              " 'good',\n",
              " 'book',\n",
              " '📖.',\n",
              " 'Feeling',\n",
              " 'blessed',\n",
              " 'and',\n",
              " 'grateful',\n",
              " 'for',\n",
              " 'these',\n",
              " 'simple',\n",
              " 'joys',\n",
              " 'in',\n",
              " 'life',\n",
              " '!',\n",
              " '✨',\n",
              " 'How',\n",
              " 'was',\n",
              " 'your',\n",
              " 'day',\n",
              " '?',\n",
              " 'Share',\n",
              " 'your',\n",
              " 'highlights',\n",
              " '!',\n",
              " '🌈',\n",
              " '#',\n",
              " 'Grateful',\n",
              " '#',\n",
              " 'GoodVibesOnly',\n",
              " '#',\n",
              " 'SimpleJoys',\n",
              " '#',\n",
              " 'FriendsForever']"
            ]
          },
          "metadata": {},
          "execution_count": 20
        }
      ]
    },
    {
      "cell_type": "code",
      "source": [
        "tokenizerTweet=TweetTokenizer()\n",
        "print(tokenizerTweet.tokenize(eg))"
      ],
      "metadata": {
        "colab": {
          "base_uri": "https://localhost:8080/"
        },
        "id": "Ul95NvfK0Hwu",
        "outputId": "1c637dc3-bde4-400b-9ff1-ee59b3d69f8d"
      },
      "execution_count": 24,
      "outputs": [
        {
          "output_type": "stream",
          "name": "stdout",
          "text": [
            "['Just', 'had', 'the', 'most', 'amazing', 'day', 'ever', '!', '🌟', 'Started', 'with', 'a', 'hearty', 'breakfast', '🥞', ',', 'followed', 'by', 'a', 'scenic', 'hike', '🏞', '️', ',', 'and', 'then', 'a', 'surprise', 'visit', 'from', 'an', 'old', 'friend', '!', '🤗', 'Can', 'you', 'believe', 'it', '?', 'We', 'laughed', ',', 'reminisced', ',', 'and', 'made', 'unforgettable', 'memories', '.', '🎉', 'Now', ',', 'enjoying', 'a', 'quiet', 'evening', 'with', 'a', 'cup', 'of', 'hot', 'cocoa', '☕', 'and', 'a', 'good', 'book', '📖', '.', 'Feeling', 'blessed', 'and', 'grateful', 'for', 'these', 'simple', 'joys', 'in', 'life', '!', '✨', 'How', 'was', 'your', 'day', '?', 'Share', 'your', 'highlights', '!', '🌈', '#Grateful', '#GoodVibesOnly', '#SimpleJoys', '#FriendsForever']\n"
          ]
        }
      ]
    },
    {
      "cell_type": "code",
      "source": [
        "from textblob import TextBlob"
      ],
      "metadata": {
        "id": "GsygL1MZ0q17"
      },
      "execution_count": 25,
      "outputs": []
    },
    {
      "cell_type": "code",
      "source": [
        "blob_object=TextBlob(eg)"
      ],
      "metadata": {
        "id": "T07AySiH0yAt"
      },
      "execution_count": 27,
      "outputs": []
    },
    {
      "cell_type": "code",
      "source": [
        "print(len(blob_object))"
      ],
      "metadata": {
        "colab": {
          "base_uri": "https://localhost:8080/"
        },
        "id": "gTo0vpsj04LA",
        "outputId": "68db0ab4-b341-42d2-bb3c-8d28ebafe75f"
      },
      "execution_count": 29,
      "outputs": [
        {
          "output_type": "stream",
          "name": "stdout",
          "text": [
            "462\n"
          ]
        }
      ]
    },
    {
      "cell_type": "code",
      "source": [
        "import tensorflow as tf\n",
        "from tensorflow import keras\n",
        "from tensorflow.keras.preprocessing.text import Tokenizer"
      ],
      "metadata": {
        "id": "SvueIZSG1Qw2"
      },
      "execution_count": 33,
      "outputs": []
    },
    {
      "cell_type": "code",
      "source": [
        "eg_upd=[\"Just had the most amazing day ever! 🌟 Started with a hearty breakfast 🥞, followed by a scenic hike 🏞️, and then a surprise visit from an old friend! 🤗 Can you believe it? We laughed, reminisced, and made unforgettable memories. 🎉 Now, enjoying a quiet evening with a cup of hot cocoa ☕ and a good book 📖. Feeling blessed and grateful for these simple joys in life! ✨ How was your day? Share your highlights! 🌈 #Grateful #GoodVibesOnly #SimpleJoys #FriendsForever\"]"
      ],
      "metadata": {
        "id": "JU8u7POd2ypj"
      },
      "execution_count": 40,
      "outputs": []
    },
    {
      "cell_type": "code",
      "source": [
        "tokenizer=Tokenizer(num_words=100)\n",
        "tokenizer.fit_on_texts(eg_upd)\n",
        "word_index=tokenizer.word_index\n",
        "for word, index in word_index.items():\n",
        "    print(f'{word}: {index}')"
      ],
      "metadata": {
        "colab": {
          "base_uri": "https://localhost:8080/"
        },
        "id": "4gE_6Q5V144L",
        "outputId": "527a4667-f3c7-4b6e-ed8f-d710b3101069"
      },
      "execution_count": 41,
      "outputs": [
        {
          "output_type": "stream",
          "name": "stdout",
          "text": [
            "a: 1\n",
            "and: 2\n",
            "day: 3\n",
            "with: 4\n",
            "grateful: 5\n",
            "your: 6\n",
            "just: 7\n",
            "had: 8\n",
            "the: 9\n",
            "most: 10\n",
            "amazing: 11\n",
            "ever: 12\n",
            "🌟: 13\n",
            "started: 14\n",
            "hearty: 15\n",
            "breakfast: 16\n",
            "🥞: 17\n",
            "followed: 18\n",
            "by: 19\n",
            "scenic: 20\n",
            "hike: 21\n",
            "🏞️: 22\n",
            "then: 23\n",
            "surprise: 24\n",
            "visit: 25\n",
            "from: 26\n",
            "an: 27\n",
            "old: 28\n",
            "friend: 29\n",
            "🤗: 30\n",
            "can: 31\n",
            "you: 32\n",
            "believe: 33\n",
            "it: 34\n",
            "we: 35\n",
            "laughed: 36\n",
            "reminisced: 37\n",
            "made: 38\n",
            "unforgettable: 39\n",
            "memories: 40\n",
            "🎉: 41\n",
            "now: 42\n",
            "enjoying: 43\n",
            "quiet: 44\n",
            "evening: 45\n",
            "cup: 46\n",
            "of: 47\n",
            "hot: 48\n",
            "cocoa: 49\n",
            "☕: 50\n",
            "good: 51\n",
            "book: 52\n",
            "📖: 53\n",
            "feeling: 54\n",
            "blessed: 55\n",
            "for: 56\n",
            "these: 57\n",
            "simple: 58\n",
            "joys: 59\n",
            "in: 60\n",
            "life: 61\n",
            "✨: 62\n",
            "how: 63\n",
            "was: 64\n",
            "share: 65\n",
            "highlights: 66\n",
            "🌈: 67\n",
            "goodvibesonly: 68\n",
            "simplejoys: 69\n",
            "friendsforever: 70\n"
          ]
        }
      ]
    }
  ]
}